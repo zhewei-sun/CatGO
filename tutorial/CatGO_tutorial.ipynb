{
 "cells": [
  {
   "cell_type": "markdown",
   "metadata": {},
   "source": [
    "# CatGO Tutorial"
   ]
  },
  {
   "cell_type": "markdown",
   "metadata": {},
   "source": [
    "This tutorial will illustrate the basic workflow of CatGO using visual data from CIFAR-10.\n",
    "\n",
    "To run this tutorial, you will need the following dependencies:\n",
    "\n",
    "- Python 3\n",
    "- Numpy\n",
    "- Scipy\n",
    "- Matplotlib\n",
    "\n",
    "All of which should be included in a standard scientific Python distribution."
   ]
  },
  {
   "cell_type": "markdown",
   "metadata": {},
   "source": [
    "We first create a symbolic link pointing to the library. You will need to change the destination if your code sits in a different directory. "
   ]
  },
  {
   "cell_type": "code",
   "execution_count": null,
   "metadata": {},
   "outputs": [],
   "source": [
    "! ln -s ../ CatGO"
   ]
  },
  {
   "cell_type": "markdown",
   "metadata": {},
   "source": [
    "Now we can import CatGO and other dependencies:"
   ]
  },
  {
   "cell_type": "code",
   "execution_count": 2,
   "metadata": {},
   "outputs": [],
   "source": [
    "from CatGO import categorize\n",
    "\n",
    "import numpy as np\n",
    "import scipy.spatial.distance as dist\n",
    "import matplotlib.pyplot as plt\n",
    "\n",
    "%matplotlib inline"
   ]
  },
  {
   "cell_type": "markdown",
   "metadata": {},
   "source": [
    "### CIFAR-10 Data"
   ]
  },
  {
   "cell_type": "markdown",
   "metadata": {},
   "source": [
    "CIFAR-10 is an image database containing 32x32 images belonging to 10 categories. We will use a subset of the data to do a quick illustration. The pre-processed data is already included in the tutorial repository."
   ]
  },
  {
   "cell_type": "code",
   "execution_count": 3,
   "metadata": {},
   "outputs": [],
   "source": [
    "cifar_data = np.load('vision-data-processed.npz')\n",
    "\n",
    "X_train = cifar_data['X_train']\n",
    "Y_train = cifar_data['Y_train']\n",
    "\n",
    "X_test = cifar_data['X_test']\n",
    "Y_test = cifar_data['Y_test']\n",
    "\n",
    "label_set = [s.decode('UTF-8') for s in cifar_data['label_set']]"
   ]
  },
  {
   "cell_type": "markdown",
   "metadata": {},
   "source": [
    "The training set contains 2000 images, and the test set contains 200.\n",
    "\n",
    "Each image is represented as its grayscale pixel values, each flattened to an array of size 32x32=1024."
   ]
  },
  {
   "cell_type": "code",
   "execution_count": 4,
   "metadata": {},
   "outputs": [
    {
     "data": {
      "text/plain": [
       "(2000, 1024)"
      ]
     },
     "execution_count": 4,
     "metadata": {},
     "output_type": "execute_result"
    }
   ],
   "source": [
    "X_train.shape"
   ]
  },
  {
   "cell_type": "markdown",
   "metadata": {},
   "source": [
    "Here's an example image from the data:"
   ]
  },
  {
   "cell_type": "code",
   "execution_count": 5,
   "metadata": {},
   "outputs": [
    {
     "data": {
      "text/plain": [
       "<matplotlib.image.AxesImage at 0x7f61bd454940>"
      ]
     },
     "execution_count": 5,
     "metadata": {},
     "output_type": "execute_result"
    },
    {
     "data": {
      "image/png": "[encoded data removed]",
      "text/plain": [
       "<Figure size 432x288 with 1 Axes>"
      ]
     },
     "metadata": {
      "needs_background": "light"
     },
     "output_type": "display_data"
    }
   ],
   "source": [
    "plt.imshow(X_train[4].reshape((32,32)), cmap='gray')"
   ]
  },
  {
   "cell_type": "markdown",
   "metadata": {},
   "source": [
    "The set of 10 labels (categories) the images belong to:"
   ]
  },
  {
   "cell_type": "code",
   "execution_count": 6,
   "metadata": {},
   "outputs": [
    {
     "data": {
      "text/plain": [
       "['airplane',\n",
       " 'automobile',\n",
       " 'bird',\n",
       " 'cat',\n",
       " 'deer',\n",
       " 'dog',\n",
       " 'frog',\n",
       " 'horse',\n",
       " 'ship',\n",
       " 'truck']"
      ]
     },
     "execution_count": 6,
     "metadata": {},
     "output_type": "execute_result"
    }
   ],
   "source": [
    "label_set"
   ]
  },
  {
   "cell_type": "markdown",
   "metadata": {},
   "source": [
    "The label arrays simply indexes the set array shown above."
   ]
  },
  {
   "cell_type": "code",
   "execution_count": 7,
   "metadata": {},
   "outputs": [
    {
     "data": {
      "text/plain": [
       "array([6, 9, 9, 4, 1, 1, 2, 7, 8, 3, 4, 7, 7, 2, 9, 9, 9, 3, 2, 6, 4, 3,\n",
       "       6, 6, 2, 6, 3, 5, 4, 0])"
      ]
     },
     "execution_count": 7,
     "metadata": {},
     "output_type": "execute_result"
    }
   ],
   "source": [
    "Y_train[:30]"
   ]
  },
  {
   "cell_type": "markdown",
   "metadata": {},
   "source": [
    "Distribution of the categories, in both sets:"
   ]
  },
  {
   "cell_type": "code",
   "execution_count": 8,
   "metadata": {},
   "outputs": [
    {
     "data": {
      "text/plain": [
       "[202, 191, 203, 195, 214, 183, 207, 199, 203, 203]"
      ]
     },
     "execution_count": 8,
     "metadata": {},
     "output_type": "execute_result"
    }
   ],
   "source": [
    "[np.sum(Y_train==i) for i in range(10)]"
   ]
  },
  {
   "cell_type": "code",
   "execution_count": 9,
   "metadata": {},
   "outputs": [
    {
     "data": {
      "text/plain": [
       "[20, 14, 21, 19, 15, 18, 26, 18, 28, 21]"
      ]
     },
     "execution_count": 9,
     "metadata": {},
     "output_type": "execute_result"
    }
   ],
   "source": [
    "[np.sum(Y_test==i) for i in range(10)]"
   ]
  },
  {
   "cell_type": "markdown",
   "metadata": {},
   "source": [
    "### Setting up the Categorization Problem"
   ]
  },
  {
   "cell_type": "markdown",
   "metadata": {},
   "source": [
    "To run a categorization model, you'll need the following input:\n",
    "\n",
    "- A set of **categories**.\n",
    "- **Exemplars** for each of the categories.\n",
    "- A set of **stimuli** to be queried.\n",
    "- **Category labels** for the queried stimuli."
   ]
  },
  {
   "cell_type": "markdown",
   "metadata": {},
   "source": [
    "In this case, the set of categories is simply the set of image labels."
   ]
  },
  {
   "cell_type": "code",
   "execution_count": 10,
   "metadata": {},
   "outputs": [],
   "source": [
    "categories = label_set"
   ]
  },
  {
   "cell_type": "markdown",
   "metadata": {},
   "source": [
    "We use the 2000 image training set as our set of exemplars. Here, we rearrage the exemplars into an array, where the n'th element contains an array for all images belonging to the n'th category."
   ]
  },
  {
   "cell_type": "code",
   "execution_count": 11,
   "metadata": {},
   "outputs": [],
   "source": [
    "exemplars = np.asarray([X_train[Y_train==i] for i in range(len(label_set))])"
   ]
  },
  {
   "cell_type": "markdown",
   "metadata": {},
   "source": [
    "The 200 image test set will be used as the set of visual stimuli to be queried. Furthermore, half of it will be used to fit the categoriztion models (i.e. train the models) while the rest will be unseen during training and be used to evaluate the models."
   ]
  },
  {
   "cell_type": "code",
   "execution_count": 12,
   "metadata": {},
   "outputs": [],
   "source": [
    "queries = X_test\n",
    "query_labels = Y_test"
   ]
  },
  {
   "cell_type": "markdown",
   "metadata": {},
   "source": [
    "#### Collaborative Filtering"
   ]
  },
  {
   "cell_type": "markdown",
   "metadata": {},
   "source": [
    "CatGO also allows the use the collaboratively filtered models (See [Sun et al. 19](http://www.cs.toronto.edu/~zheweisun/files/cogsci19_slang.pdf) for detail), where we leverage knowledge from category similarities by postulating that similar categories would have similar exemplars.\n",
    "\n",
    "This is particular useful in language applications where we have many categories but few exemplars in each. We'll apply this to visual data here to illustrate the workflow."
   ]
  },
  {
   "cell_type": "markdown",
   "metadata": {},
   "source": [
    "Here, we simply take the word embeddings for each category name to estimate their similarities."
   ]
  },
  {
   "cell_type": "code",
   "execution_count": 13,
   "metadata": {},
   "outputs": [],
   "source": [
    "word_embed = np.load('word_embed.npy')\n",
    "cf_feature = dist.squareform(dist.pdist(word_embed))"
   ]
  },
  {
   "cell_type": "markdown",
   "metadata": {},
   "source": [
    "You should get a matrix of distances as shown below. In general, this matrix should contain similarity scores (lower is better) for all pairs of categories."
   ]
  },
  {
   "cell_type": "code",
   "execution_count": 14,
   "metadata": {},
   "outputs": [
    {
     "data": {
      "text/plain": [
       "array([[0.        , 0.6078411 , 1.1694755 , 1.50974016, 1.43959437,\n",
       "        1.45714792, 1.3281681 , 1.07810621, 1.10870257, 0.93613922],\n",
       "       [0.6078411 , 0.        , 1.28805677, 1.51195303, 1.36810347,\n",
       "        1.45789645, 1.37238434, 1.03185527, 1.20577848, 0.85135229],\n",
       "       [1.1694755 , 1.28805677, 0.        , 1.41997655, 1.37222504,\n",
       "        1.44740844, 1.31683742, 1.28282671, 1.52519927, 1.39708561],\n",
       "       [1.50974016, 1.51195303, 1.41997655, 0.        , 1.58276705,\n",
       "        1.04595498, 1.50200914, 1.44652615, 1.74462998, 1.52457386],\n",
       "       [1.43959437, 1.36810347, 1.37222504, 1.58276705, 0.        ,\n",
       "        1.51293476, 1.54061003, 1.36457592, 1.71209336, 1.37926394],\n",
       "       [1.45714792, 1.45789645, 1.44740844, 1.04595498, 1.51293476,\n",
       "        0.        , 1.5945899 , 1.29958853, 1.68258459, 1.43948243],\n",
       "       [1.3281681 , 1.37238434, 1.31683742, 1.50200914, 1.54061003,\n",
       "        1.5945899 , 0.        , 1.37077544, 1.61957943, 1.44413471],\n",
       "       [1.07810621, 1.03185527, 1.28282671, 1.44652615, 1.36457592,\n",
       "        1.29958853, 1.37077544, 0.        , 1.37900411, 1.11754649],\n",
       "       [1.10870257, 1.20577848, 1.52519927, 1.74462998, 1.71209336,\n",
       "        1.68258459, 1.61957943, 1.37900411, 0.        , 1.21366708],\n",
       "       [0.93613922, 0.85135229, 1.39708561, 1.52457386, 1.37926394,\n",
       "        1.43948243, 1.44413471, 1.11754649, 1.21366708, 0.        ]])"
      ]
     },
     "execution_count": 14,
     "metadata": {},
     "output_type": "execute_result"
    }
   ],
   "source": [
    "cf_feature"
   ]
  },
  {
   "cell_type": "markdown",
   "metadata": {},
   "source": [
    "CatGO supports multiple feature maps for collaborative filtering when stacked matricies are passed in. Here, we will only use one feature map."
   ]
  },
  {
   "cell_type": "code",
   "execution_count": 15,
   "metadata": {},
   "outputs": [],
   "source": [
    "cf_feature = cf_feature[np.newaxis,:,:]"
   ]
  },
  {
   "cell_type": "code",
   "execution_count": 16,
   "metadata": {},
   "outputs": [
    {
     "data": {
      "text/plain": [
       "(1, 10, 10)"
      ]
     },
     "execution_count": 16,
     "metadata": {},
     "output_type": "execute_result"
    }
   ],
   "source": [
    "cf_feature.shape"
   ]
  },
  {
   "cell_type": "markdown",
   "metadata": {},
   "source": [
    "### Running CatGO"
   ]
  },
  {
   "cell_type": "markdown",
   "metadata": {},
   "source": [
    "First, create a *Categorizer* object by passing in the input:"
   ]
  },
  {
   "cell_type": "code",
   "execution_count": 17,
   "metadata": {},
   "outputs": [],
   "source": [
    "categorizer = categorize.Categorizer(categories, exemplars, cf_feature)"
   ]
  },
  {
   "cell_type": "markdown",
   "metadata": {},
   "source": [
    "CatGO allows custom indices for the queried stimuli set for training-testing split. This can be leveraged to perform random data sampling and cross validation. Here, we simply take the first half of the CIFAR-10 test set as our training data for parameter estimation, and the latter half for evaluation."
   ]
  },
  {
   "cell_type": "code",
   "execution_count": 18,
   "metadata": {},
   "outputs": [],
   "source": [
    "categorizer.set_inds(np.arange(100), np.arange(100,200))"
   ]
  },
  {
   "cell_type": "markdown",
   "metadata": {},
   "source": [
    "Create a directory to store the results, and link it to CatGO using *set_datadir*. Please **make sure the directory exists** before running the optimization step."
   ]
  },
  {
   "cell_type": "code",
   "execution_count": 19,
   "metadata": {},
   "outputs": [],
   "source": [
    "! mkdir results"
   ]
  },
  {
   "cell_type": "code",
   "execution_count": 18,
   "metadata": {},
   "outputs": [],
   "source": [
    "categorizer.set_datadir('results/')"
   ]
  },
  {
   "cell_type": "markdown",
   "metadata": {},
   "source": [
    "We will first run CatGO on the 3 simple models. For a full list of supported models, see the documentation on github."
   ]
  },
  {
   "cell_type": "code",
   "execution_count": 19,
   "metadata": {},
   "outputs": [],
   "source": [
    "models_basic = ['onenn', 'exemplar', 'prototype']"
   ]
  },
  {
   "cell_type": "markdown",
   "metadata": {},
   "source": [
    "The *run_categorization* command will optimize the kernel parameters using the training queries, and store the results in the directory specified above.\n",
    "\n",
    "We will train the categorization model using the first half of the dataset:"
   ]
  },
  {
   "cell_type": "code",
   "execution_count": 24,
   "metadata": {},
   "outputs": [
    {
     "name": "stdout",
     "output_type": "stream",
     "text": [
      "Pre-processing Distances...\n"
     ]
    },
    {
     "name": "stderr",
     "output_type": "stream",
     "text": [
      "100%|██████████| 10/10 [00:00<00:00, 12.23it/s]\n"
     ]
    },
    {
     "name": "stdout",
     "output_type": "stream",
     "text": [
      "Pre-processing Complete!\n",
      "Optimizing Kernels...\n"
     ]
    },
    {
     "name": "stderr",
     "output_type": "stream",
     "text": [
      "100%|██████████| 3/3 [00:00<00:00,  7.95it/s]\n"
     ]
    }
   ],
   "source": [
    "categorizer.run_categorization(queries[:100], query_labels[:100], models_basic, mode='train', prior='uniform')"
   ]
  },
  {
   "cell_type": "markdown",
   "metadata": {},
   "source": [
    "Once the models have been trained, we then test them using the second half of the dataset.\n",
    "\n",
    "Running *run_categorization* with a *mode* parameter other than *'train'* will load saved parameters instead of  optimizing the parameters."
   ]
  },
  {
   "cell_type": "code",
   "execution_count": 25,
   "metadata": {
    "scrolled": true
   },
   "outputs": [
    {
     "name": "stdout",
     "output_type": "stream",
     "text": [
      "Pre-processing Distances...\n"
     ]
    },
    {
     "name": "stderr",
     "output_type": "stream",
     "text": [
      "100%|██████████| 10/10 [00:00<00:00, 12.07it/s]\n"
     ]
    },
    {
     "name": "stdout",
     "output_type": "stream",
     "text": [
      "Pre-processing Complete!\n",
      "Optimizing Kernels...\n"
     ]
    },
    {
     "name": "stderr",
     "output_type": "stream",
     "text": [
      "100%|██████████| 3/3 [00:00<00:00, 89.19it/s]\n"
     ]
    }
   ],
   "source": [
    "categorizer.run_categorization(queries[100:], query_labels[100:], models_basic, mode='test', prior='uniform')"
   ]
  },
  {
   "cell_type": "markdown",
   "metadata": {},
   "source": [
    "At this point, you've successfully performed categorization on the data! The full likelihood results are stored in the directory specified earlier (in this case, results/).\n",
    "\n",
    "CatGO also has a built-in function *summarize_results* that computes common evaluation metrics.\n",
    "\n",
    "We do this for both the training and test splits:"
   ]
  },
  {
   "cell_type": "code",
   "execution_count": 26,
   "metadata": {},
   "outputs": [
    {
     "name": "stdout",
     "output_type": "stream",
     "text": [
      "[RANDOM]\n",
      "Log_Likelihood (train): 230.25850929940455\n",
      "AUC (train): 0.5\n",
      "Expected_Rank (train): 5.0\n",
      "[ONENN]\n",
      "Log_Likelihood (train): 226.72782058366982\n",
      "AUC (train): 0.6281818181818182\n",
      "Expected_Rank (train): 4.09\n",
      "[EXEMPLAR]\n",
      "Log_Likelihood (train): 222.5514013653867\n",
      "AUC (train): 0.6400000000000001\n",
      "Expected_Rank (train): 3.96\n",
      "[PROTOTYPE]\n",
      "Log_Likelihood (train): 206.94884349404063\n",
      "AUC (train): 0.6718181818181818\n",
      "Expected_Rank (train): 3.61\n"
     ]
    }
   ],
   "source": [
    "categorizer.summarize_results(query_labels[:100], models_basic, mode='train', prior='uniform')"
   ]
  },
  {
   "cell_type": "code",
   "execution_count": 27,
   "metadata": {},
   "outputs": [
    {
     "name": "stdout",
     "output_type": "stream",
     "text": [
      "[RANDOM]\n",
      "Log_Likelihood (test): 230.25850929940455\n",
      "AUC (test): 0.5\n",
      "Expected_Rank (test): 5.0\n",
      "[ONENN]\n",
      "Log_Likelihood (test): 227.73165977762193\n",
      "AUC (test): 0.6045454545454545\n",
      "Expected_Rank (test): 4.35\n",
      "[EXEMPLAR]\n",
      "Log_Likelihood (test): 224.66508341878486\n",
      "AUC (test): 0.6227272727272728\n",
      "Expected_Rank (test): 4.15\n",
      "[PROTOTYPE]\n",
      "Log_Likelihood (test): 220.94990267195763\n",
      "AUC (test): 0.6145454545454545\n",
      "Expected_Rank (test): 4.24\n"
     ]
    }
   ],
   "source": [
    "categorizer.summarize_results(query_labels[100:], models_basic, mode='test', prior='uniform')"
   ]
  },
  {
   "cell_type": "markdown",
   "metadata": {},
   "source": [
    "We can also obtain the detailed results by calling *compute_metrics* and then visualize the results:"
   ]
  },
  {
   "cell_type": "code",
   "execution_count": 28,
   "metadata": {},
   "outputs": [
    {
     "data": {
      "image/png": "[encoded data removed]",
      "text/plain": [
       "<Figure size 1080x720 with 1 Axes>"
      ]
     },
     "metadata": {
      "needs_background": "light"
     },
     "output_type": "display_data"
    }
   ],
   "source": [
    "results = categorizer.compute_metrics(query_labels[100:], models_basic, mode='test', prior='uniform')\n",
    "\n",
    "ax = plt.figure(figsize=(15,10))\n",
    "linewidth=5\n",
    "\n",
    "plt.plot(results['random']['roc'], label=\"Random (AUC = %.2f)\" % np.mean(results['random']['roc']), color='black', linestyle=':', linewidth=linewidth)\n",
    "plt.plot(results['onenn']['roc'], label=\"1NN (AUC = %.2f)\" % np.mean(results['onenn']['roc']), color='red', linestyle='-', linewidth=linewidth)\n",
    "plt.plot(results['exemplar']['roc'], label=\"Exemplar (AUC = %.2f)\" % np.mean(results['exemplar']['roc']), color=(0,0.4,0.8), linestyle='-.', linewidth=linewidth)\n",
    "plt.plot(results['prototype']['roc'], label=\"Prototype (AUC = %.2f)\" % np.mean(results['prototype']['roc']), color='green', linestyle='--', linewidth=linewidth)\n",
    "\n",
    "plt.ylabel('Precision', fontsize=30)\n",
    "plt.xlabel(\"Number of retrievals\", fontsize=30)\n",
    "plt.title(\"ROC-type curve for rank retrival - Unseen queries\", fontsize=25)\n",
    "plt.legend(loc=\"lower right\", prop={'size': 23})\n",
    "plt.tick_params(labelsize=30) \n",
    "plt.show()"
   ]
  },
  {
   "cell_type": "markdown",
   "metadata": {},
   "source": [
    "We see that all three models substantially outperform chance while the exemplar model is slightly better than the other two."
   ]
  },
  {
   "cell_type": "markdown",
   "metadata": {},
   "source": [
    "#### Collaborative Filtering"
   ]
  },
  {
   "cell_type": "markdown",
   "metadata": {},
   "source": [
    "Now, let's try running the collaborativly filtered models:"
   ]
  },
  {
   "cell_type": "code",
   "execution_count": 29,
   "metadata": {},
   "outputs": [],
   "source": [
    "models_cf = ['cf_onenn_1', 'cf_onenn_2', 'cf_exemplar_1', 'cf_exemplar_2', 'cf_prototype_1', 'cf_prototype_2']"
   ]
  },
  {
   "cell_type": "markdown",
   "metadata": {},
   "source": [
    "The CF models are a bit slower to run, so let's run them in parallel! The *run_categorization_batch* command will execute serveral kernel optimizations in parallel:"
   ]
  },
  {
   "cell_type": "code",
   "execution_count": 30,
   "metadata": {},
   "outputs": [
    {
     "name": "stdout",
     "output_type": "stream",
     "text": [
      "Pre-processing Distances...\n"
     ]
    },
    {
     "name": "stderr",
     "output_type": "stream",
     "text": [
      "100%|██████████| 10/10 [00:00<00:00, 18.94it/s]\n"
     ]
    },
    {
     "name": "stdout",
     "output_type": "stream",
     "text": [
      "Pre-processing Complete!\n",
      "Optimizing Kernels...\n"
     ]
    },
    {
     "name": "stderr",
     "output_type": "stream",
     "text": [
      "100%|██████████| 6/6 [00:10<00:00,  1.67s/it]\n"
     ]
    }
   ],
   "source": [
    "categorizer.run_categorization_batch(queries[:100], query_labels[:100], models_cf, mode='train', prior='uniform')"
   ]
  },
  {
   "cell_type": "code",
   "execution_count": 31,
   "metadata": {},
   "outputs": [
    {
     "name": "stdout",
     "output_type": "stream",
     "text": [
      "Pre-processing Distances...\n"
     ]
    },
    {
     "name": "stderr",
     "output_type": "stream",
     "text": [
      "100%|██████████| 10/10 [00:00<00:00, 17.23it/s]\n"
     ]
    },
    {
     "name": "stdout",
     "output_type": "stream",
     "text": [
      "Pre-processing Complete!\n",
      "Optimizing Kernels...\n"
     ]
    },
    {
     "name": "stderr",
     "output_type": "stream",
     "text": [
      "100%|██████████| 6/6 [00:10<00:00,  1.67s/it]\n"
     ]
    }
   ],
   "source": [
    "categorizer.run_categorization_batch(queries[100:], query_labels[100:], models_cf, mode='test', prior='uniform')"
   ]
  },
  {
   "cell_type": "markdown",
   "metadata": {},
   "source": [
    "Results can be viewed similar to the previous set of models. Here, we do not observe an increase in performance due to the discrepency between visual and semantic domains. For instance, two types of animals may be semantically similar becuase they're in the same taxonomy but may not look similar in the visual domain."
   ]
  },
  {
   "cell_type": "code",
   "execution_count": 32,
   "metadata": {},
   "outputs": [
    {
     "name": "stdout",
     "output_type": "stream",
     "text": [
      "[RANDOM]\n",
      "Log_Likelihood (train): 230.25850929940455\n",
      "AUC (train): 0.5\n",
      "Expected_Rank (train): 5.0\n",
      "[CF_ONENN_1]\n",
      "Log_Likelihood (train): 221.12124095808673\n",
      "AUC (train): 0.6281818181818182\n",
      "Expected_Rank (train): 4.09\n",
      "[CF_ONENN_2]\n",
      "Log_Likelihood (train): 228.2850527645427\n",
      "AUC (train): 0.6272727272727273\n",
      "Expected_Rank (train): 4.1\n",
      "[CF_EXEMPLAR_1]\n",
      "Log_Likelihood (train): 210.30687949861954\n",
      "AUC (train): 0.6309090909090909\n",
      "Expected_Rank (train): 4.06\n",
      "[CF_EXEMPLAR_2]\n",
      "Log_Likelihood (train): 226.42527565012773\n",
      "AUC (train): 0.6436363636363636\n",
      "Expected_Rank (train): 3.92\n",
      "[CF_PROTOTYPE_1]\n",
      "Log_Likelihood (train): 205.9747063889351\n",
      "AUC (train): 0.660909090909091\n",
      "Expected_Rank (train): 3.73\n",
      "[CF_PROTOTYPE_2]\n",
      "Log_Likelihood (train): 205.52826473438137\n",
      "AUC (train): 0.6518181818181819\n",
      "Expected_Rank (train): 3.83\n"
     ]
    }
   ],
   "source": [
    "categorizer.summarize_results(query_labels[:100], models_cf, mode='train', prior='uniform')"
   ]
  },
  {
   "cell_type": "code",
   "execution_count": 33,
   "metadata": {},
   "outputs": [
    {
     "name": "stdout",
     "output_type": "stream",
     "text": [
      "[RANDOM]\n",
      "Log_Likelihood (test): 230.25850929940455\n",
      "AUC (test): 0.5\n",
      "Expected_Rank (test): 5.0\n",
      "[CF_ONENN_1]\n",
      "Log_Likelihood (test): 224.06785446236754\n",
      "AUC (test): 0.6045454545454545\n",
      "Expected_Rank (test): 4.35\n",
      "[CF_ONENN_2]\n",
      "Log_Likelihood (test): 229.14357448285097\n",
      "AUC (test): 0.5681818181818182\n",
      "Expected_Rank (test): 4.75\n",
      "[CF_EXEMPLAR_1]\n",
      "Log_Likelihood (test): 215.35253552375315\n",
      "AUC (test): 0.6245454545454545\n",
      "Expected_Rank (test): 4.13\n",
      "[CF_EXEMPLAR_2]\n",
      "Log_Likelihood (test): 227.79918176508747\n",
      "AUC (test): 0.5990909090909091\n",
      "Expected_Rank (test): 4.41\n",
      "[CF_PROTOTYPE_1]\n",
      "Log_Likelihood (test): 222.9834939242439\n",
      "AUC (test): 0.6054545454545455\n",
      "Expected_Rank (test): 4.34\n",
      "[CF_PROTOTYPE_2]\n",
      "Log_Likelihood (test): 223.72260647213525\n",
      "AUC (test): 0.6099999999999999\n",
      "Expected_Rank (test): 4.29\n"
     ]
    }
   ],
   "source": [
    "categorizer.summarize_results(query_labels[100:], models_cf, mode='test', prior='uniform')"
   ]
  },
  {
   "cell_type": "code",
   "execution_count": null,
   "metadata": {},
   "outputs": [],
   "source": []
  }
 ],
 "metadata": {
  "kernelspec": {
   "display_name": "Python 3",
   "language": "python",
   "name": "python3"
  },
  "language_info": {
   "codemirror_mode": {
    "name": "ipython",
    "version": 3
   },
   "file_extension": ".py",
   "mimetype": "text/x-python",
   "name": "python",
   "nbconvert_exporter": "python",
   "pygments_lexer": "ipython3",
   "version": "3.7.0"
  }
 },
 "nbformat": 4,
 "nbformat_minor": 2
}
