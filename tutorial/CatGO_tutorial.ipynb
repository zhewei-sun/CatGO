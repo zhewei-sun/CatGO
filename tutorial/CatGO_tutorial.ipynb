{
 "cells": [
  {
   "cell_type": "markdown",
   "metadata": {},
   "source": [
    "# CatGO Tutorial"
   ]
  },
  {
   "cell_type": "markdown",
   "metadata": {},
   "source": [
    "#### By: [Zhewei Sun](http://www.cs.toronto.edu/~zheweisun/)"
   ]
  },
  {
   "cell_type": "markdown",
   "metadata": {},
   "source": [
    "This tutorial will illustrate the basic workflow of CatGO using visual data from CIFAR-10.\n",
    "\n",
    "To run this tutorial, you will need the following dependencies:\n",
    "\n",
    "- Python 3\n",
    "- Numpy\n",
    "- Scipy\n",
    "- Matplotlib\n",
    "- tqdm\n",
    "\n",
    "Most of which should be included in a standard scientific Python distribution."
   ]
  },
  {
   "cell_type": "markdown",
   "metadata": {},
   "source": [
    "We first create a symbolic link pointing to the library. You will need to change the destination if your code sits in a different directory. "
   ]
  },
  {
   "cell_type": "code",
   "execution_count": null,
   "metadata": {},
   "outputs": [],
   "source": [
    "! ln -s ../ CatGO"
   ]
  },
  {
   "cell_type": "markdown",
   "metadata": {},
   "source": [
    "Now we can import CatGO and other dependencies:"
   ]
  },
  {
   "cell_type": "code",
   "execution_count": 2,
   "metadata": {},
   "outputs": [],
   "source": [
    "from CatGO import categorize\n",
    "\n",
    "import numpy as np\n",
    "import scipy.spatial.distance as dist\n",
    "import matplotlib.pyplot as plt\n",
    "\n",
    "%matplotlib inline"
   ]
  },
  {
   "cell_type": "markdown",
   "metadata": {},
   "source": [
    "### CIFAR-10 Data"
   ]
  },
  {
   "cell_type": "markdown",
   "metadata": {},
   "source": [
    "CIFAR-10 is an image database containing 32x32 images belonging to 10 categories. We will use a subset of the data to do a quick illustration. The pre-processed data is already included in the tutorial repository."
   ]
  },
  {
   "cell_type": "code",
   "execution_count": 3,
   "metadata": {},
   "outputs": [],
   "source": [
    "cifar_data = np.load('vision-data-processed.npz')\n",
    "\n",
    "X_train = cifar_data['X_train']\n",
    "Y_train = cifar_data['Y_train']\n",
    "\n",
    "X_test = cifar_data['X_test']\n",
    "Y_test = cifar_data['Y_test']\n",
    "\n",
    "label_set = [s.decode('UTF-8') for s in cifar_data['label_set']]"
   ]
  },
  {
   "cell_type": "markdown",
   "metadata": {},
   "source": [
    "The training set contains 2000 images, and the test set contains 200.\n",
    "\n",
    "Each image is represented as its grayscale pixel values, each flattened to an array of size 32x32=1024."
   ]
  },
  {
   "cell_type": "code",
   "execution_count": 4,
   "metadata": {},
   "outputs": [
    {
     "data": {
      "text/plain": [
       "(2000, 1024)"
      ]
     },
     "execution_count": 4,
     "metadata": {},
     "output_type": "execute_result"
    }
   ],
   "source": [
    "X_train.shape"
   ]
  },
  {
   "cell_type": "markdown",
   "metadata": {},
   "source": [
    "Here's an example image from the data:"
   ]
  },
  {
   "cell_type": "code",
   "execution_count": 5,
   "metadata": {},
   "outputs": [
    {
     "data": {
      "text/plain": [
<<<<<<< HEAD
       "<matplotlib.image.AxesImage at 0x7f61bd454940>"
=======
       "<matplotlib.image.AxesImage at 0x100c696fd0>"
>>>>>>> e73f6c71f4d87e52b5486f33cc36593be6fc5b94
      ]
     },
     "execution_count": 5,
     "metadata": {},
     "output_type": "execute_result"
    },
    {
     "data": {
      "image/png": "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\n",
      "text/plain": [
       "<Figure size 432x288 with 1 Axes>"
      ]
     },
     "metadata": {},
     "output_type": "display_data"
    }
   ],
   "source": [
    "plt.imshow(X_train[4].reshape((32,32)), cmap='gray')"
   ]
  },
  {
   "cell_type": "markdown",
   "metadata": {},
   "source": [
    "The set of 10 categories (labels) the images belong to:"
   ]
  },
  {
   "cell_type": "code",
   "execution_count": 6,
   "metadata": {},
   "outputs": [
    {
     "data": {
      "text/plain": [
       "['airplane',\n",
       " 'automobile',\n",
       " 'bird',\n",
       " 'cat',\n",
       " 'deer',\n",
       " 'dog',\n",
       " 'frog',\n",
       " 'horse',\n",
       " 'ship',\n",
       " 'truck']"
      ]
     },
     "execution_count": 6,
     "metadata": {},
     "output_type": "execute_result"
    }
   ],
   "source": [
    "label_set"
   ]
  },
  {
   "cell_type": "markdown",
   "metadata": {},
   "source": [
    "The label arrays simply indexes the set array shown above."
   ]
  },
  {
   "cell_type": "code",
   "execution_count": 7,
   "metadata": {},
   "outputs": [
    {
     "data": {
      "text/plain": [
       "array([6, 9, 9, 4, 1, 1, 2, 7, 8, 3, 4, 7, 7, 2, 9, 9, 9, 3, 2, 6, 4, 3,\n",
       "       6, 6, 2, 6, 3, 5, 4, 0])"
      ]
     },
     "execution_count": 7,
     "metadata": {},
     "output_type": "execute_result"
    }
   ],
   "source": [
    "Y_train[:30]"
   ]
  },
  {
   "cell_type": "markdown",
   "metadata": {},
   "source": [
    "Distribution among all categories, in both sets:"
   ]
  },
  {
   "cell_type": "code",
   "execution_count": 8,
   "metadata": {},
   "outputs": [
    {
     "data": {
      "text/plain": [
       "[202, 191, 203, 195, 214, 183, 207, 199, 203, 203]"
      ]
     },
     "execution_count": 8,
     "metadata": {},
     "output_type": "execute_result"
    }
   ],
   "source": [
    "[np.sum(Y_train==i) for i in range(10)]"
   ]
  },
  {
   "cell_type": "code",
   "execution_count": 9,
   "metadata": {},
   "outputs": [
    {
     "data": {
      "text/plain": [
       "[20, 14, 21, 19, 15, 18, 26, 18, 28, 21]"
      ]
     },
     "execution_count": 9,
     "metadata": {},
     "output_type": "execute_result"
    }
   ],
   "source": [
    "[np.sum(Y_test==i) for i in range(10)]"
   ]
  },
  {
   "cell_type": "markdown",
   "metadata": {},
   "source": [
    "### Setting up the Categorization Problem"
   ]
  },
  {
   "cell_type": "markdown",
   "metadata": {},
   "source": [
    "To run a categorization model, you'll need the following input:\n",
    "\n",
    "- A set of **categories**.\n",
    "- **Exemplars** for each of the categories.\n",
    "- A set of **stimuli** to be queried.\n",
    "- **Category labels** for the queried stimuli."
   ]
  },
  {
   "cell_type": "markdown",
   "metadata": {},
   "source": [
    "In this case, the set of categories is simply the set of image labels."
   ]
  },
  {
   "cell_type": "code",
   "execution_count": 10,
   "metadata": {},
   "outputs": [],
   "source": [
    "categories = label_set"
   ]
  },
  {
   "cell_type": "markdown",
   "metadata": {},
   "source": [
    "We use the 2000 image training set as our set of exemplars. Here, we rearrage the exemplars into an array, where the n'th element contains an array for all images belonging to the n'th category."
   ]
  },
  {
   "cell_type": "code",
   "execution_count": 11,
   "metadata": {},
   "outputs": [],
   "source": [
    "exemplars = np.asarray([X_train[Y_train==i] for i in range(len(label_set))])"
   ]
  },
  {
   "cell_type": "markdown",
   "metadata": {},
   "source": [
    "The 200 image test set will be used as the set of visual stimuli to be queried. Furthermore, half of it will be used to fit the categoriztion models (i.e. train the models) while the rest will be unseen during training and be used to evaluate the models."
   ]
  },
  {
   "cell_type": "code",
   "execution_count": 12,
   "metadata": {},
   "outputs": [],
   "source": [
    "queries = X_test\n",
    "query_labels = Y_test"
   ]
  },
  {
   "cell_type": "markdown",
   "metadata": {},
   "source": [
    "#### Collaborative Filtering"
   ]
  },
  {
   "cell_type": "markdown",
   "metadata": {},
   "source": [
    "CatGO also allows the use the collaboratively filtered models (See [Sun et al. 19](http://www.cs.toronto.edu/~zheweisun/files/cogsci19_slang.pdf) for detail), where we leverage knowledge from category similarities by postulating that similar categories would have similar exemplars.\n",
    "\n",
    "This is particular useful in language applications where we have many categories but few exemplars in each. We'll apply this technique to visual data here to illustrate the workflow."
   ]
  },
  {
   "cell_type": "markdown",
   "metadata": {},
   "source": [
    "Here, we simply take the word embeddings of the category names to estimate their similarities."
   ]
  },
  {
   "cell_type": "code",
   "execution_count": 30,
   "metadata": {},
   "outputs": [],
   "source": [
    "word_embed = np.load('word_embed.npy')\n",
    "cf_feature = dist.squareform(dist.pdist(word_embed))"
   ]
  },
  {
   "cell_type": "markdown",
   "metadata": {},
   "source": [
    "You should get a matrix of distances as shown below. In general, this matrix should contain similarity scores (lower is better) for all pairs of categories."
   ]
  },
  {
   "cell_type": "code",
   "execution_count": 31,
   "metadata": {},
   "outputs": [
    {
     "data": {
      "text/plain": [
       "array([[0.        , 0.6078411 , 1.1694755 , 1.50974016, 1.43959437,\n",
       "        1.45714792, 1.3281681 , 1.07810621, 1.10870257, 0.93613922],\n",
       "       [0.6078411 , 0.        , 1.28805677, 1.51195303, 1.36810347,\n",
       "        1.45789645, 1.37238434, 1.03185527, 1.20577848, 0.85135229],\n",
       "       [1.1694755 , 1.28805677, 0.        , 1.41997655, 1.37222504,\n",
       "        1.44740844, 1.31683742, 1.28282671, 1.52519927, 1.39708561],\n",
       "       [1.50974016, 1.51195303, 1.41997655, 0.        , 1.58276705,\n",
       "        1.04595498, 1.50200914, 1.44652615, 1.74462998, 1.52457386],\n",
       "       [1.43959437, 1.36810347, 1.37222504, 1.58276705, 0.        ,\n",
       "        1.51293476, 1.54061003, 1.36457592, 1.71209336, 1.37926394],\n",
       "       [1.45714792, 1.45789645, 1.44740844, 1.04595498, 1.51293476,\n",
       "        0.        , 1.5945899 , 1.29958853, 1.68258459, 1.43948243],\n",
       "       [1.3281681 , 1.37238434, 1.31683742, 1.50200914, 1.54061003,\n",
       "        1.5945899 , 0.        , 1.37077544, 1.61957943, 1.44413471],\n",
       "       [1.07810621, 1.03185527, 1.28282671, 1.44652615, 1.36457592,\n",
       "        1.29958853, 1.37077544, 0.        , 1.37900411, 1.11754649],\n",
       "       [1.10870257, 1.20577848, 1.52519927, 1.74462998, 1.71209336,\n",
       "        1.68258459, 1.61957943, 1.37900411, 0.        , 1.21366708],\n",
       "       [0.93613922, 0.85135229, 1.39708561, 1.52457386, 1.37926394,\n",
       "        1.43948243, 1.44413471, 1.11754649, 1.21366708, 0.        ]])"
      ]
     },
     "execution_count": 31,
     "metadata": {},
     "output_type": "execute_result"
    }
   ],
   "source": [
    "cf_feature"
   ]
  },
  {
   "cell_type": "markdown",
   "metadata": {},
   "source": [
    "CatGO supports multiple feature maps for collaborative filtering when stacked matricies are passed in. Here, we will only use one feature map."
   ]
  },
  {
   "cell_type": "code",
   "execution_count": 15,
   "metadata": {},
   "outputs": [],
   "source": [
    "cf_feature = cf_feature[np.newaxis,:,:]"
   ]
  },
  {
   "cell_type": "code",
   "execution_count": 16,
   "metadata": {},
   "outputs": [
    {
     "data": {
      "text/plain": [
       "(1, 10, 10)"
      ]
     },
     "execution_count": 16,
     "metadata": {},
     "output_type": "execute_result"
    }
   ],
   "source": [
    "cf_feature.shape"
   ]
  },
  {
   "cell_type": "markdown",
   "metadata": {},
   "source": [
    "### Running CatGO"
   ]
  },
  {
   "cell_type": "markdown",
   "metadata": {},
   "source": [
    "First, create a *Categorizer* object by passing in all inputs:"
   ]
  },
  {
   "cell_type": "code",
   "execution_count": 17,
   "metadata": {},
   "outputs": [],
   "source": [
    "categorizer = categorize.Categorizer(categories, exemplars, cf_feature)"
   ]
  },
  {
   "cell_type": "markdown",
   "metadata": {},
   "source": [
    "CatGO allows custom indices for the queried stimuli set for a training-testing split. This can be leveraged to perform random data sampling and cross validation. Here, we simply take the first half of the CIFAR-10 test set as our training data for parameter estimation, and the latter half for evaluation."
   ]
  },
  {
   "cell_type": "code",
   "execution_count": 18,
   "metadata": {},
   "outputs": [],
   "source": [
    "categorizer.set_inds(np.arange(100), np.arange(100,200))"
   ]
  },
  {
   "cell_type": "markdown",
   "metadata": {},
   "source": [
    "Create a directory to store the results, and link it to CatGO using *set_datadir*. Please **make sure the directory exists** before running the optimization step."
   ]
  },
  {
   "cell_type": "code",
   "execution_count": 19,
   "metadata": {},
   "outputs": [],
   "source": [
    "! mkdir results"
   ]
  },
  {
   "cell_type": "code",
   "execution_count": 18,
   "metadata": {},
   "outputs": [],
   "source": [
    "categorizer.set_datadir('results/')"
   ]
  },
  {
   "cell_type": "markdown",
   "metadata": {},
   "source": [
    "We will first run CatGO on 3 simple models. For a full list of supported models, see the [documentation on github](https://github.com/zhewei-sun/CatGO)."
   ]
  },
  {
   "cell_type": "code",
   "execution_count": 19,
   "metadata": {},
   "outputs": [],
   "source": [
    "models_basic = ['onenn', 'exemplar', 'prototype']"
   ]
  },
  {
   "cell_type": "markdown",
   "metadata": {},
   "source": [
    "The *run_categorization* command will optimize the kernel parameters using the training queries, and store the results in the directory specified above.\n",
    "\n",
    "We will train the categorization model using the first half of the dataset:"
   ]
  },
  {
   "cell_type": "code",
<<<<<<< HEAD
   "execution_count": 24,
=======
   "execution_count": 22,
>>>>>>> e73f6c71f4d87e52b5486f33cc36593be6fc5b94
   "metadata": {},
   "outputs": [
    {
     "name": "stdout",
     "output_type": "stream",
     "text": [
      "Pre-processing Distances...\n"
     ]
    },
    {
     "name": "stderr",
     "output_type": "stream",
     "text": [
<<<<<<< HEAD
      "100%|██████████| 10/10 [00:00<00:00, 12.23it/s]\n"
=======
      "100%|██████████| 10/10 [00:01<00:00,  6.17it/s]\n"
>>>>>>> e73f6c71f4d87e52b5486f33cc36593be6fc5b94
     ]
    },
    {
     "name": "stdout",
     "output_type": "stream",
     "text": [
      "Pre-processing Complete!\n",
      "Optimizing Kernels...\n"
     ]
    },
    {
     "name": "stderr",
     "output_type": "stream",
     "text": [
<<<<<<< HEAD
      "100%|██████████| 3/3 [00:00<00:00,  7.95it/s]\n"
=======
      "100%|██████████| 3/3 [00:00<00:00, 30.01it/s]\n"
>>>>>>> e73f6c71f4d87e52b5486f33cc36593be6fc5b94
     ]
    }
   ],
   "source": [
    "categorizer.run_categorization(queries[:100], query_labels[:100], models_basic, mode='train', prior='uniform')"
   ]
  },
  {
   "cell_type": "markdown",
   "metadata": {},
   "source": [
    "Once the models have been trained, we then test them using the second half of the dataset.\n",
    "\n",
    "Running *run_categorization* with a *mode* parameter other than *'train'* will load saved parameters instead of  optimizing the parameters."
   ]
  },
  {
   "cell_type": "code",
<<<<<<< HEAD
   "execution_count": 25,
   "metadata": {
    "scrolled": true
   },
   "outputs": [
    {
     "name": "stdout",
     "output_type": "stream",
     "text": [
      "Pre-processing Distances...\n"
     ]
    },
    {
     "name": "stderr",
     "output_type": "stream",
     "text": [
      "100%|██████████| 10/10 [00:00<00:00, 12.07it/s]\n"
     ]
    },
    {
     "name": "stdout",
     "output_type": "stream",
     "text": [
      "Pre-processing Complete!\n",
      "Optimizing Kernels...\n"
     ]
    },
    {
     "name": "stderr",
     "output_type": "stream",
     "text": [
      "100%|██████████| 3/3 [00:00<00:00, 89.19it/s]\n"
     ]
    }
   ],
=======
   "execution_count": 23,
   "metadata": {},
   "outputs": [],
>>>>>>> e73f6c71f4d87e52b5486f33cc36593be6fc5b94
   "source": [
    "categorizer.run_categorization(queries[100:], query_labels[100:], models_basic, mode='test', prior='uniform')"
   ]
  },
  {
   "cell_type": "markdown",
   "metadata": {},
   "source": [
    "At this point, you've successfully performed categorization on the data! The full likelihood results are stored in the directory specified earlier (in this case, results/).\n",
    "\n",
    "CatGO also has a built-in function *summarize_results* that computes common evaluation metrics.\n",
    "\n",
    "We do this for both the training and test splits:"
   ]
  },
  {
   "cell_type": "code",
   "execution_count": 26,
   "metadata": {},
   "outputs": [
    {
     "name": "stdout",
     "output_type": "stream",
     "text": [
      "[RANDOM]\n",
      "Log_Likelihood (train): 230.25850929940455\n",
      "AUC (train): 0.5\n",
      "Expected_Rank (train): 5.0\n",
      "[ONENN]\n",
      "Log_Likelihood (train): 226.72782058366982\n",
      "AUC (train): 0.6281818181818182\n",
      "Expected_Rank (train): 4.09\n",
      "[EXEMPLAR]\n",
      "Log_Likelihood (train): 222.5514013653867\n",
      "AUC (train): 0.6400000000000001\n",
      "Expected_Rank (train): 3.96\n",
      "[PROTOTYPE]\n",
      "Log_Likelihood (train): 206.94884349404063\n",
      "AUC (train): 0.6718181818181818\n",
      "Expected_Rank (train): 3.61\n"
     ]
    }
   ],
   "source": [
    "categorizer.summarize_results(query_labels[:100], models_basic, mode='train', prior='uniform')"
   ]
  },
  {
   "cell_type": "code",
   "execution_count": 24,
   "metadata": {},
   "outputs": [
    {
     "name": "stdout",
     "output_type": "stream",
     "text": [
      "[RANDOM]\n",
<<<<<<< HEAD
      "Log_Likelihood (test): 230.25850929940455\n",
      "AUC (test): 0.5\n",
      "Expected_Rank (test): 5.0\n",
      "[ONENN]\n",
      "Log_Likelihood (test): 227.73165977762193\n",
      "AUC (test): 0.6045454545454545\n",
      "Expected_Rank (test): 4.35\n",
      "[EXEMPLAR]\n",
      "Log_Likelihood (test): 224.66508341878486\n",
      "AUC (test): 0.6227272727272728\n",
      "Expected_Rank (test): 4.15\n",
      "[PROTOTYPE]\n",
      "Log_Likelihood (test): 220.94990267195763\n",
      "AUC (test): 0.6145454545454545\n",
      "Expected_Rank (test): 4.24\n"
=======
      "Log_Likelihood (Train): 230.2485097993713\n",
      "Log_Likelihood (Test): 230.2485097993713\n",
      "AUC (Train): 0.5\n",
      "AUC (Test): 0.5\n",
      "Expected_Rank (Train): 5.0\n",
      "Expected_Rank (Test): 5.0\n",
      "[ONENN]\n",
      "Log_Likelihood (Train): 214.80702223847896\n",
      "Log_Likelihood (Test): 223.33977405353383\n",
      "AUC (Train): 0.6281818181818182\n",
      "AUC (Test): 0.6045454545454545\n",
      "Expected_Rank (Train): 4.09\n",
      "Expected_Rank (Test): 4.35\n",
      "[EXEMPLAR]\n",
      "Log_Likelihood (Train): 210.30669136342652\n",
      "Log_Likelihood (Test): 215.35264266931517\n",
      "AUC (Train): 0.6309090909090909\n",
      "AUC (Test): 0.6245454545454545\n",
      "Expected_Rank (Train): 4.06\n",
      "Expected_Rank (Test): 4.13\n",
      "[PROTOTYPE]\n",
      "Log_Likelihood (Train): 206.9485682313706\n",
      "Log_Likelihood (Test): 220.9501878177391\n",
      "AUC (Train): 0.6718181818181818\n",
      "AUC (Test): 0.6145454545454545\n",
      "Expected_Rank (Train): 3.61\n",
      "Expected_Rank (Test): 4.24\n"
>>>>>>> e73f6c71f4d87e52b5486f33cc36593be6fc5b94
     ]
    }
   ],
   "source": [
    "categorizer.summarize_results(query_labels[100:], models_basic, mode='test', prior='uniform')"
   ]
  },
  {
   "cell_type": "markdown",
   "metadata": {},
   "source": [
    "We can also obtain the detailed results by calling *compute_metrics* and then visualize the results:"
   ]
  },
  {
   "cell_type": "code",
   "execution_count": 25,
   "metadata": {},
   "outputs": [
    {
     "data": {
      "image/png": "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\n",
      "text/plain": [
       "<Figure size 1080x720 with 1 Axes>"
      ]
     },
     "metadata": {},
     "output_type": "display_data"
    }
   ],
   "source": [
    "results = categorizer.compute_metrics(query_labels[100:], models_basic, mode='test', prior='uniform')\n",
    "\n",
    "ax = plt.figure(figsize=(15,10))\n",
    "linewidth=5\n",
    "\n",
    "plt.plot(results['random']['roc'], label=\"Random (AUC = %.2f)\" % np.mean(results['random']['roc']), color='black', linestyle=':', linewidth=linewidth)\n",
    "plt.plot(results['onenn']['roc'], label=\"1NN (AUC = %.2f)\" % np.mean(results['onenn']['roc']), color='red', linestyle='-', linewidth=linewidth)\n",
    "plt.plot(results['exemplar']['roc'], label=\"Exemplar (AUC = %.2f)\" % np.mean(results['exemplar']['roc']), color=(0,0.4,0.8), linestyle='-.', linewidth=linewidth)\n",
    "plt.plot(results['prototype']['roc'], label=\"Prototype (AUC = %.2f)\" % np.mean(results['prototype']['roc']), color='green', linestyle='--', linewidth=linewidth)\n",
    "\n",
    "plt.ylabel('Precision', fontsize=30)\n",
    "plt.xlabel(\"Number of retrievals\", fontsize=30)\n",
    "plt.title(\"ROC-type curve for rank retrival - Unseen queries\", fontsize=25)\n",
    "plt.legend(loc=\"lower right\", prop={'size': 23})\n",
    "plt.tick_params(labelsize=30) \n",
    "plt.show()"
   ]
  },
  {
   "cell_type": "markdown",
   "metadata": {},
   "source": [
    "We see that all three models substantially outperform chance while the exemplar model is slightly better than the other two."
   ]
  },
  {
   "cell_type": "markdown",
   "metadata": {},
   "source": [
    "#### Collaborative Filtering"
   ]
  },
  {
   "cell_type": "markdown",
   "metadata": {},
   "source": [
    "Now, let's try running the collaborativly filtered models:"
   ]
  },
  {
   "cell_type": "code",
   "execution_count": 26,
   "metadata": {},
   "outputs": [],
   "source": [
    "models_cf = ['cf_onenn_1', 'cf_onenn_2', 'cf_exemplar_1', 'cf_exemplar_2', 'cf_prototype_1', 'cf_prototype_2']"
   ]
  },
  {
   "cell_type": "markdown",
   "metadata": {},
   "source": [
    "The CF models are a bit slower to run, so let's run them in parallel! The *run_categorization_batch* command will execute serveral kernel optimizations in parallel:"
   ]
  },
  {
   "cell_type": "code",
   "execution_count": 27,
   "metadata": {},
   "outputs": [
    {
     "name": "stdout",
     "output_type": "stream",
     "text": [
      "Pre-processing Distances...\n"
     ]
    },
    {
     "name": "stderr",
     "output_type": "stream",
     "text": [
<<<<<<< HEAD
      "100%|██████████| 10/10 [00:00<00:00, 18.94it/s]\n"
     ]
    },
    {
     "name": "stdout",
     "output_type": "stream",
     "text": [
      "Pre-processing Complete!\n",
      "Optimizing Kernels...\n"
     ]
    },
    {
     "name": "stderr",
     "output_type": "stream",
     "text": [
      "100%|██████████| 6/6 [00:10<00:00,  1.67s/it]\n"
     ]
    }
   ],
   "source": [
    "categorizer.run_categorization_batch(queries[:100], query_labels[:100], models_cf, mode='train', prior='uniform')"
   ]
  },
  {
   "cell_type": "code",
   "execution_count": 31,
   "metadata": {},
   "outputs": [
    {
     "name": "stdout",
     "output_type": "stream",
     "text": [
      "Pre-processing Distances...\n"
     ]
    },
    {
     "name": "stderr",
     "output_type": "stream",
     "text": [
      "100%|██████████| 10/10 [00:00<00:00, 17.23it/s]\n"
=======
      "100%|██████████| 10/10 [00:00<00:00,  9.19it/s]\n"
>>>>>>> e73f6c71f4d87e52b5486f33cc36593be6fc5b94
     ]
    },
    {
     "name": "stdout",
     "output_type": "stream",
     "text": [
      "Pre-processing Complete!\n",
      "Optimizing Kernels...\n"
     ]
    },
    {
     "name": "stderr",
     "output_type": "stream",
     "text": [
      "100%|██████████| 6/6 [00:10<00:00,  1.67s/it]\n"
     ]
    }
   ],
   "source": [
    "categorizer.run_categorization_batch(queries[100:], query_labels[100:], models_cf, mode='test', prior='uniform')"
   ]
  },
  {
   "cell_type": "markdown",
   "metadata": {},
   "source": [
    "Results can be viewed in the same way as the previous set of models. Here, we do not observe an increase in performance from CF due to the discrepency between visual and semantic domains. For instance, two types of animals may be semantically similar becuase they're in the same taxonomy but may not look similar in the visual domain."
   ]
  },
  {
   "cell_type": "code",
<<<<<<< HEAD
   "execution_count": 32,
=======
   "execution_count": 28,
>>>>>>> e73f6c71f4d87e52b5486f33cc36593be6fc5b94
   "metadata": {},
   "outputs": [
    {
     "name": "stdout",
     "output_type": "stream",
     "text": [
      "[RANDOM]\n",
      "Log_Likelihood (train): 230.25850929940455\n",
      "AUC (train): 0.5\n",
      "Expected_Rank (train): 5.0\n",
      "[CF_ONENN_1]\n",
      "Log_Likelihood (train): 221.12124095808673\n",
      "AUC (train): 0.6281818181818182\n",
      "Expected_Rank (train): 4.09\n",
      "[CF_ONENN_2]\n",
      "Log_Likelihood (train): 228.2850527645427\n",
      "AUC (train): 0.6272727272727273\n",
      "Expected_Rank (train): 4.1\n",
      "[CF_EXEMPLAR_1]\n",
      "Log_Likelihood (train): 210.30687949861954\n",
      "AUC (train): 0.6309090909090909\n",
      "Expected_Rank (train): 4.06\n",
      "[CF_EXEMPLAR_2]\n",
      "Log_Likelihood (train): 226.42527565012773\n",
      "AUC (train): 0.6436363636363636\n",
      "Expected_Rank (train): 3.92\n",
      "[CF_PROTOTYPE_1]\n",
      "Log_Likelihood (train): 205.9747063889351\n",
      "AUC (train): 0.660909090909091\n",
      "Expected_Rank (train): 3.73\n",
      "[CF_PROTOTYPE_2]\n",
      "Log_Likelihood (train): 205.52826473438137\n",
      "AUC (train): 0.6518181818181819\n",
      "Expected_Rank (train): 3.83\n"
     ]
    }
   ],
   "source": [
    "categorizer.summarize_results(query_labels[:100], models_cf, mode='train', prior='uniform')"
   ]
  },
  {
   "cell_type": "code",
<<<<<<< HEAD
   "execution_count": 33,
=======
   "execution_count": 29,
>>>>>>> e73f6c71f4d87e52b5486f33cc36593be6fc5b94
   "metadata": {},
   "outputs": [
    {
     "name": "stdout",
     "output_type": "stream",
     "text": [
      "[RANDOM]\n",
<<<<<<< HEAD
      "Log_Likelihood (test): 230.25850929940455\n",
      "AUC (test): 0.5\n",
      "Expected_Rank (test): 5.0\n",
      "[CF_ONENN_1]\n",
      "Log_Likelihood (test): 224.06785446236754\n",
      "AUC (test): 0.6045454545454545\n",
      "Expected_Rank (test): 4.35\n",
      "[CF_ONENN_2]\n",
      "Log_Likelihood (test): 229.14357448285097\n",
      "AUC (test): 0.5681818181818182\n",
      "Expected_Rank (test): 4.75\n",
      "[CF_EXEMPLAR_1]\n",
      "Log_Likelihood (test): 215.35253552375315\n",
      "AUC (test): 0.6245454545454545\n",
      "Expected_Rank (test): 4.13\n",
      "[CF_EXEMPLAR_2]\n",
      "Log_Likelihood (test): 227.79918176508747\n",
      "AUC (test): 0.5990909090909091\n",
      "Expected_Rank (test): 4.41\n",
      "[CF_PROTOTYPE_1]\n",
      "Log_Likelihood (test): 222.9834939242439\n",
      "AUC (test): 0.6054545454545455\n",
      "Expected_Rank (test): 4.34\n",
      "[CF_PROTOTYPE_2]\n",
      "Log_Likelihood (test): 223.72260647213525\n",
      "AUC (test): 0.6099999999999999\n",
      "Expected_Rank (test): 4.29\n"
=======
      "Log_Likelihood (Train): 230.2485097993713\n",
      "Log_Likelihood (Test): 230.2485097993713\n",
      "AUC (Train): 0.5\n",
      "AUC (Test): 0.5\n",
      "Expected_Rank (Train): 5.0\n",
      "Expected_Rank (Test): 5.0\n",
      "[CF_ONENN_1]\n",
      "Log_Likelihood (Train): 214.8070214047848\n",
      "Log_Likelihood (Test): 223.3397823073201\n",
      "AUC (Train): 0.6281818181818182\n",
      "AUC (Test): 0.6045454545454545\n",
      "Expected_Rank (Train): 4.09\n",
      "Expected_Rank (Test): 4.35\n",
      "[CF_ONENN_2]\n",
      "Log_Likelihood (Train): 209.7005550748831\n",
      "Log_Likelihood (Test): 233.12560652389087\n",
      "AUC (Train): 0.63\n",
      "AUC (Test): 0.5790909090909091\n",
      "Expected_Rank (Train): 4.07\n",
      "Expected_Rank (Test): 4.63\n",
      "[CF_EXEMPLAR_1]\n",
      "Log_Likelihood (Train): 210.3066836100677\n",
      "Log_Likelihood (Test): 215.3526261737868\n",
      "AUC (Train): 0.6309090909090909\n",
      "AUC (Test): 0.6245454545454545\n",
      "Expected_Rank (Train): 4.06\n",
      "Expected_Rank (Test): 4.13\n",
      "[CF_EXEMPLAR_2]\n",
      "Log_Likelihood (Train): 210.3066836101345\n",
      "Log_Likelihood (Test): 215.35262804669117\n",
      "AUC (Train): 0.6309090909090909\n",
      "AUC (Test): 0.6245454545454545\n",
      "Expected_Rank (Train): 4.06\n",
      "Expected_Rank (Test): 4.13\n",
      "[CF_PROTOTYPE_1]\n",
      "Log_Likelihood (Train): 206.94855632679847\n",
      "Log_Likelihood (Test): 220.95019021714012\n",
      "AUC (Train): 0.6718181818181818\n",
      "AUC (Test): 0.6145454545454545\n",
      "Expected_Rank (Train): 3.61\n",
      "Expected_Rank (Test): 4.24\n",
      "[CF_PROTOTYPE_2]\n",
      "Log_Likelihood (Train): 206.94855632632581\n",
      "Log_Likelihood (Test): 220.95027484408402\n",
      "AUC (Train): 0.6718181818181818\n",
      "AUC (Test): 0.6145454545454545\n",
      "Expected_Rank (Train): 3.61\n",
      "Expected_Rank (Test): 4.24\n"
>>>>>>> e73f6c71f4d87e52b5486f33cc36593be6fc5b94
     ]
    }
   ],
   "source": [
    "categorizer.summarize_results(query_labels[100:], models_cf, mode='test', prior='uniform')"
   ]
  }
 ],
 "metadata": {
  "kernelspec": {
   "display_name": "Python 3",
   "language": "python",
   "name": "python3"
  },
  "language_info": {
   "codemirror_mode": {
    "name": "ipython",
    "version": 3
   },
   "file_extension": ".py",
   "mimetype": "text/x-python",
   "name": "python",
   "nbconvert_exporter": "python",
   "pygments_lexer": "ipython3",
   "version": "3.6.5"
  }
 },
 "nbformat": 4,
 "nbformat_minor": 2
}
